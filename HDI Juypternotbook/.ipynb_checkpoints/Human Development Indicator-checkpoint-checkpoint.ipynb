{
 "cells": [
  {
   "cell_type": "markdown",
   "id": "897d9784",
   "metadata": {},
   "source": [
    "# Human Development indicators"
   ]
  },
  {
   "cell_type": "markdown",
   "id": "83194241",
   "metadata": {},
   "source": [
    "Florian Schrödl BSc MNr. 01428401   \n",
    "Course of study: Elektrical Energy Technology and Sustainable Energy Systems (Master)  \n",
    "Project for the course Open Soucre Engery System Modelling  "
   ]
  },
  {
   "cell_type": "markdown",
   "id": "08786d34",
   "metadata": {},
   "source": [
    "## Human Development indicators (HDI)\n",
    "The Human Development indicator contains three pamrameter, life expectancy, eduction and icome. The HDI has been computed following the same formula as used by the UNDP, namely the geometric mean of the three dimensions: health (life expectancy), education (geometric average of actual and expected educational attainment measured by years of schooling) and income (gross national income (GNI) per capita). [Source: https://www.doi.org/10.1553/populationyearbook2015s241]"
   ]
  },
  {
   "cell_type": "code",
   "execution_count": 1,
   "id": "127282e0",
   "metadata": {},
   "outputs": [
    {
     "name": "stdout",
     "output_type": "stream",
     "text": [
      "Requirement already satisfied: pyam-iamc in c:\\users\\flosc\\anaconda3\\lib\\site-packages (2.2.2)\n",
      "Requirement already satisfied: requests>2.27.1 in c:\\users\\flosc\\anaconda3\\lib\\site-packages (from pyam-iamc) (2.28.1)\n",
      "Requirement already satisfied: iam-units>=2020.4.21 in c:\\users\\flosc\\anaconda3\\lib\\site-packages (from pyam-iamc) (2023.9.12)\n",
      "Requirement already satisfied: seaborn>=0.11 in c:\\users\\flosc\\anaconda3\\lib\\site-packages (from pyam-iamc) (0.12.2)\n",
      "Requirement already satisfied: wquantiles>=0.6 in c:\\users\\flosc\\anaconda3\\lib\\site-packages (from pyam-iamc) (0.6)\n",
      "Requirement already satisfied: matplotlib>=3.6.0 in c:\\users\\flosc\\anaconda3\\lib\\site-packages (from pyam-iamc) (3.7.0)\n",
      "Requirement already satisfied: ixmp4>=0.8.0 in c:\\users\\flosc\\anaconda3\\lib\\site-packages (from pyam-iamc) (0.8.3)\n",
      "Requirement already satisfied: Pint>=0.13 in c:\\users\\flosc\\anaconda3\\lib\\site-packages (from pyam-iamc) (0.23)\n",
      "Requirement already satisfied: scipy>=1.10.0 in c:\\users\\flosc\\anaconda3\\lib\\site-packages (from pyam-iamc) (1.10.0)\n",
      "Requirement already satisfied: PyYAML>=6.0.1 in c:\\users\\flosc\\anaconda3\\lib\\site-packages (from pyam-iamc) (6.0.1)\n",
      "Requirement already satisfied: numpy>=1.26.0 in c:\\users\\flosc\\anaconda3\\lib\\site-packages (from pyam-iamc) (1.26.4)\n",
      "Requirement already satisfied: pandas>=2.1.2 in c:\\users\\flosc\\anaconda3\\lib\\site-packages (from pyam-iamc) (2.2.2)\n",
      "Requirement already satisfied: XlsxWriter>=3.0.3 in c:\\users\\flosc\\anaconda3\\lib\\site-packages (from pyam-iamc) (3.2.0)\n",
      "Requirement already satisfied: openpyxl>=3.1.2 in c:\\users\\flosc\\anaconda3\\lib\\site-packages (from pyam-iamc) (3.1.2)\n",
      "Requirement already satisfied: rich>=13.5.2 in c:\\users\\flosc\\anaconda3\\lib\\site-packages (from ixmp4>=0.8.0->pyam-iamc) (13.7.1)\n",
      "Requirement already satisfied: toml>=0.10.2 in c:\\users\\flosc\\anaconda3\\lib\\site-packages (from ixmp4>=0.8.0->pyam-iamc) (0.10.2)\n",
      "Requirement already satisfied: typer>=0.9.0 in c:\\users\\flosc\\anaconda3\\lib\\site-packages (from ixmp4>=0.8.0->pyam-iamc) (0.12.3)\n",
      "Requirement already satisfied: PyJWT>=2.4.0 in c:\\users\\flosc\\anaconda3\\lib\\site-packages (from ixmp4>=0.8.0->pyam-iamc) (2.4.0)\n",
      "Requirement already satisfied: pandera>=0.17.0 in c:\\users\\flosc\\anaconda3\\lib\\site-packages (from ixmp4>=0.8.0->pyam-iamc) (0.19.1)\n",
      "Requirement already satisfied: alembic>=1.12.0 in c:\\users\\flosc\\anaconda3\\lib\\site-packages (from ixmp4>=0.8.0->pyam-iamc) (1.13.1)\n",
      "Requirement already satisfied: psycopg[binary]<4.0.0,>=3.1.12 in c:\\users\\flosc\\anaconda3\\lib\\site-packages (from ixmp4>=0.8.0->pyam-iamc) (3.1.18)\n",
      "Requirement already satisfied: SQLAlchemy[mypy]>=2.0.22 in c:\\users\\flosc\\anaconda3\\lib\\site-packages (from ixmp4>=0.8.0->pyam-iamc) (2.0.30)\n",
      "Requirement already satisfied: python-dotenv>=1.0.1 in c:\\users\\flosc\\anaconda3\\lib\\site-packages (from ixmp4>=0.8.0->pyam-iamc) (1.0.1)\n",
      "Requirement already satisfied: SQLAlchemy-Utils>=0.41.0 in c:\\users\\flosc\\anaconda3\\lib\\site-packages (from ixmp4>=0.8.0->pyam-iamc) (0.41.2)\n",
      "Requirement already satisfied: fastapi>=0.100.0 in c:\\users\\flosc\\anaconda3\\lib\\site-packages (from ixmp4>=0.8.0->pyam-iamc) (0.111.0)\n",
      "Requirement already satisfied: pydantic-settings>=2.1.0 in c:\\users\\flosc\\anaconda3\\lib\\site-packages (from ixmp4>=0.8.0->pyam-iamc) (2.2.1)\n",
      "Requirement already satisfied: pydantic>=2.3.0 in c:\\users\\flosc\\anaconda3\\lib\\site-packages (from ixmp4>=0.8.0->pyam-iamc) (2.7.1)\n",
      "Requirement already satisfied: httpx[http2]>=0.25.0 in c:\\users\\flosc\\anaconda3\\lib\\site-packages (from ixmp4>=0.8.0->pyam-iamc) (0.27.0)\n",
      "Requirement already satisfied: python-dateutil>=2.7 in c:\\users\\flosc\\anaconda3\\lib\\site-packages (from matplotlib>=3.6.0->pyam-iamc) (2.8.2)\n",
      "Requirement already satisfied: packaging>=20.0 in c:\\users\\flosc\\anaconda3\\lib\\site-packages (from matplotlib>=3.6.0->pyam-iamc) (22.0)\n",
      "Requirement already satisfied: cycler>=0.10 in c:\\users\\flosc\\anaconda3\\lib\\site-packages (from matplotlib>=3.6.0->pyam-iamc) (0.11.0)\n",
      "Requirement already satisfied: pillow>=6.2.0 in c:\\users\\flosc\\anaconda3\\lib\\site-packages (from matplotlib>=3.6.0->pyam-iamc) (9.4.0)\n",
      "Requirement already satisfied: fonttools>=4.22.0 in c:\\users\\flosc\\anaconda3\\lib\\site-packages (from matplotlib>=3.6.0->pyam-iamc) (4.25.0)\n",
      "Requirement already satisfied: pyparsing>=2.3.1 in c:\\users\\flosc\\anaconda3\\lib\\site-packages (from matplotlib>=3.6.0->pyam-iamc) (3.0.9)\n",
      "Requirement already satisfied: kiwisolver>=1.0.1 in c:\\users\\flosc\\anaconda3\\lib\\site-packages (from matplotlib>=3.6.0->pyam-iamc) (1.4.4)\n",
      "Requirement already satisfied: contourpy>=1.0.1 in c:\\users\\flosc\\anaconda3\\lib\\site-packages (from matplotlib>=3.6.0->pyam-iamc) (1.0.5)\n",
      "Requirement already satisfied: et-xmlfile in c:\\users\\flosc\\anaconda3\\lib\\site-packages (from openpyxl>=3.1.2->pyam-iamc) (1.1.0)\n",
      "Requirement already satisfied: tzdata>=2022.7 in c:\\users\\flosc\\anaconda3\\lib\\site-packages (from pandas>=2.1.2->pyam-iamc) (2024.1)\n",
      "Requirement already satisfied: pytz>=2020.1 in c:\\users\\flosc\\anaconda3\\lib\\site-packages (from pandas>=2.1.2->pyam-iamc) (2022.7)\n",
      "Requirement already satisfied: typing-extensions in c:\\users\\flosc\\anaconda3\\lib\\site-packages (from Pint>=0.13->pyam-iamc) (4.11.0)\n",
      "Requirement already satisfied: idna<4,>=2.5 in c:\\users\\flosc\\anaconda3\\lib\\site-packages (from requests>2.27.1->pyam-iamc) (3.4)\n",
      "Requirement already satisfied: certifi>=2017.4.17 in c:\\users\\flosc\\anaconda3\\lib\\site-packages (from requests>2.27.1->pyam-iamc) (2022.12.7)\n",
      "Requirement already satisfied: urllib3<1.27,>=1.21.1 in c:\\users\\flosc\\anaconda3\\lib\\site-packages (from requests>2.27.1->pyam-iamc) (1.26.14)\n",
      "Requirement already satisfied: charset-normalizer<3,>=2 in c:\\users\\flosc\\anaconda3\\lib\\site-packages (from requests>2.27.1->pyam-iamc) (2.0.4)\n",
      "Requirement already satisfied: Mako in c:\\users\\flosc\\anaconda3\\lib\\site-packages (from alembic>=1.12.0->ixmp4>=0.8.0->pyam-iamc) (1.3.3)\n",
      "Requirement already satisfied: starlette<0.38.0,>=0.37.2 in c:\\users\\flosc\\anaconda3\\lib\\site-packages (from fastapi>=0.100.0->ixmp4>=0.8.0->pyam-iamc) (0.37.2)\n",
      "Requirement already satisfied: uvicorn[standard]>=0.12.0 in c:\\users\\flosc\\anaconda3\\lib\\site-packages (from fastapi>=0.100.0->ixmp4>=0.8.0->pyam-iamc) (0.29.0)\n",
      "Requirement already satisfied: jinja2>=2.11.2 in c:\\users\\flosc\\anaconda3\\lib\\site-packages (from fastapi>=0.100.0->ixmp4>=0.8.0->pyam-iamc) (3.1.2)\n",
      "Requirement already satisfied: email_validator>=2.0.0 in c:\\users\\flosc\\anaconda3\\lib\\site-packages (from fastapi>=0.100.0->ixmp4>=0.8.0->pyam-iamc) (2.1.1)\n",
      "Requirement already satisfied: python-multipart>=0.0.7 in c:\\users\\flosc\\anaconda3\\lib\\site-packages (from fastapi>=0.100.0->ixmp4>=0.8.0->pyam-iamc) (0.0.9)\n",
      "Requirement already satisfied: ujson!=4.0.2,!=4.1.0,!=4.2.0,!=4.3.0,!=5.0.0,!=5.1.0,>=4.0.1 in c:\\users\\flosc\\anaconda3\\lib\\site-packages (from fastapi>=0.100.0->ixmp4>=0.8.0->pyam-iamc) (5.4.0)\n",
      "Requirement already satisfied: orjson>=3.2.1 in c:\\users\\flosc\\anaconda3\\lib\\site-packages (from fastapi>=0.100.0->ixmp4>=0.8.0->pyam-iamc) (3.10.3)\n",
      "Requirement already satisfied: fastapi-cli>=0.0.2 in c:\\users\\flosc\\anaconda3\\lib\\site-packages (from fastapi>=0.100.0->ixmp4>=0.8.0->pyam-iamc) (0.0.3)\n",
      "Requirement already satisfied: anyio in c:\\users\\flosc\\anaconda3\\lib\\site-packages (from httpx[http2]>=0.25.0->ixmp4>=0.8.0->pyam-iamc) (3.5.0)\n",
      "Requirement already satisfied: httpcore==1.* in c:\\users\\flosc\\anaconda3\\lib\\site-packages (from httpx[http2]>=0.25.0->ixmp4>=0.8.0->pyam-iamc) (1.0.5)\n",
      "Requirement already satisfied: sniffio in c:\\users\\flosc\\anaconda3\\lib\\site-packages (from httpx[http2]>=0.25.0->ixmp4>=0.8.0->pyam-iamc) (1.2.0)\n",
      "Requirement already satisfied: h2<5,>=3 in c:\\users\\flosc\\anaconda3\\lib\\site-packages (from httpx[http2]>=0.25.0->ixmp4>=0.8.0->pyam-iamc) (4.1.0)\n",
      "Requirement already satisfied: h11<0.15,>=0.13 in c:\\users\\flosc\\anaconda3\\lib\\site-packages (from httpcore==1.*->httpx[http2]>=0.25.0->ixmp4>=0.8.0->pyam-iamc) (0.14.0)\n",
      "Requirement already satisfied: typeguard in c:\\users\\flosc\\anaconda3\\lib\\site-packages (from pandera>=0.17.0->ixmp4>=0.8.0->pyam-iamc) (4.2.1)\n",
      "Requirement already satisfied: wrapt in c:\\users\\flosc\\anaconda3\\lib\\site-packages (from pandera>=0.17.0->ixmp4>=0.8.0->pyam-iamc) (1.14.1)\n",
      "Requirement already satisfied: typing-inspect>=0.6.0 in c:\\users\\flosc\\anaconda3\\lib\\site-packages (from pandera>=0.17.0->ixmp4>=0.8.0->pyam-iamc) (0.9.0)\n",
      "Requirement already satisfied: multimethod<=1.10.0 in c:\\users\\flosc\\anaconda3\\lib\\site-packages (from pandera>=0.17.0->ixmp4>=0.8.0->pyam-iamc) (1.10)\n",
      "Requirement already satisfied: psycopg-binary==3.1.18 in c:\\users\\flosc\\anaconda3\\lib\\site-packages (from psycopg[binary]<4.0.0,>=3.1.12->ixmp4>=0.8.0->pyam-iamc) (3.1.18)\n",
      "Requirement already satisfied: annotated-types>=0.4.0 in c:\\users\\flosc\\anaconda3\\lib\\site-packages (from pydantic>=2.3.0->ixmp4>=0.8.0->pyam-iamc) (0.6.0)\n",
      "Requirement already satisfied: pydantic-core==2.18.2 in c:\\users\\flosc\\anaconda3\\lib\\site-packages (from pydantic>=2.3.0->ixmp4>=0.8.0->pyam-iamc) (2.18.2)\n",
      "Requirement already satisfied: six>=1.5 in c:\\users\\flosc\\anaconda3\\lib\\site-packages (from python-dateutil>=2.7->matplotlib>=3.6.0->pyam-iamc) (1.16.0)\n",
      "Requirement already satisfied: pygments<3.0.0,>=2.13.0 in c:\\users\\flosc\\anaconda3\\lib\\site-packages (from rich>=13.5.2->ixmp4>=0.8.0->pyam-iamc) (2.18.0)\n",
      "Requirement already satisfied: markdown-it-py>=2.2.0 in c:\\users\\flosc\\anaconda3\\lib\\site-packages (from rich>=13.5.2->ixmp4>=0.8.0->pyam-iamc) (3.0.0)\n",
      "Requirement already satisfied: greenlet!=0.4.17 in c:\\users\\flosc\\anaconda3\\lib\\site-packages (from SQLAlchemy[mypy]>=2.0.22->ixmp4>=0.8.0->pyam-iamc) (2.0.1)\n",
      "Requirement already satisfied: mypy>=0.910 in c:\\users\\flosc\\anaconda3\\lib\\site-packages (from SQLAlchemy[mypy]>=2.0.22->ixmp4>=0.8.0->pyam-iamc) (1.10.0)\n",
      "Requirement already satisfied: click>=8.0.0 in c:\\users\\flosc\\anaconda3\\lib\\site-packages (from typer>=0.9.0->ixmp4>=0.8.0->pyam-iamc) (8.0.4)\n",
      "Requirement already satisfied: shellingham>=1.3.0 in c:\\users\\flosc\\anaconda3\\lib\\site-packages (from typer>=0.9.0->ixmp4>=0.8.0->pyam-iamc) (1.5.4)\n",
      "Requirement already satisfied: colorama in c:\\users\\flosc\\anaconda3\\lib\\site-packages (from click>=8.0.0->typer>=0.9.0->ixmp4>=0.8.0->pyam-iamc) (0.4.6)\n",
      "Requirement already satisfied: dnspython>=2.0.0 in c:\\users\\flosc\\anaconda3\\lib\\site-packages (from email_validator>=2.0.0->fastapi>=0.100.0->ixmp4>=0.8.0->pyam-iamc) (2.6.1)\n",
      "Requirement already satisfied: hpack<5,>=4.0 in c:\\users\\flosc\\anaconda3\\lib\\site-packages (from h2<5,>=3->httpx[http2]>=0.25.0->ixmp4>=0.8.0->pyam-iamc) (4.0.0)\n",
      "Requirement already satisfied: hyperframe<7,>=6.0 in c:\\users\\flosc\\anaconda3\\lib\\site-packages (from h2<5,>=3->httpx[http2]>=0.25.0->ixmp4>=0.8.0->pyam-iamc) (6.0.1)\n",
      "Requirement already satisfied: MarkupSafe>=2.0 in c:\\users\\flosc\\anaconda3\\lib\\site-packages (from jinja2>=2.11.2->fastapi>=0.100.0->ixmp4>=0.8.0->pyam-iamc) (2.1.1)\n",
      "Requirement already satisfied: mdurl~=0.1 in c:\\users\\flosc\\anaconda3\\lib\\site-packages (from markdown-it-py>=2.2.0->rich>=13.5.2->ixmp4>=0.8.0->pyam-iamc) (0.1.2)\n",
      "Requirement already satisfied: mypy-extensions>=1.0.0 in c:\\users\\flosc\\anaconda3\\lib\\site-packages (from mypy>=0.910->SQLAlchemy[mypy]>=2.0.22->ixmp4>=0.8.0->pyam-iamc) (1.0.0)\n",
      "Requirement already satisfied: tomli>=1.1.0 in c:\\users\\flosc\\anaconda3\\lib\\site-packages (from mypy>=0.910->SQLAlchemy[mypy]>=2.0.22->ixmp4>=0.8.0->pyam-iamc) (2.0.1)\n",
      "Requirement already satisfied: httptools>=0.5.0 in c:\\users\\flosc\\anaconda3\\lib\\site-packages (from uvicorn[standard]>=0.12.0->fastapi>=0.100.0->ixmp4>=0.8.0->pyam-iamc) (0.6.1)\n",
      "Requirement already satisfied: websockets>=10.4 in c:\\users\\flosc\\anaconda3\\lib\\site-packages (from uvicorn[standard]>=0.12.0->fastapi>=0.100.0->ixmp4>=0.8.0->pyam-iamc) (12.0)\n",
      "Requirement already satisfied: watchfiles>=0.13 in c:\\users\\flosc\\anaconda3\\lib\\site-packages (from uvicorn[standard]>=0.12.0->fastapi>=0.100.0->ixmp4>=0.8.0->pyam-iamc) (0.21.0)\n",
      "Note: you may need to restart the kernel to use updated packages.\n"
     ]
    }
   ],
   "source": [
    "pip install pyam-iamc"
   ]
  },
  {
   "cell_type": "code",
   "execution_count": null,
   "id": "1d3199f3",
   "metadata": {},
   "outputs": [],
   "source": []
  }
 ],
 "metadata": {
  "kernelspec": {
   "display_name": "Python 3 (ipykernel)",
   "language": "python",
   "name": "python3"
  },
  "language_info": {
   "codemirror_mode": {
    "name": "ipython",
    "version": 3
   },
   "file_extension": ".py",
   "mimetype": "text/x-python",
   "name": "python",
   "nbconvert_exporter": "python",
   "pygments_lexer": "ipython3",
   "version": "3.10.9"
  }
 },
 "nbformat": 4,
 "nbformat_minor": 5
}
